{
  "cells": [
    {
      "cell_type": "code",
      "execution_count": null,
      "metadata": {
        "id": "q5O2M-YFB4Y7"
      },
      "outputs": [],
      "source": [
        "from tensorflow.keras.datasets import mnist\n",
        "import matplotlib.pyplot as plt\n",
        "import numpy as np\n",
        "from tensorflow.keras.utils import to_categorical"
      ]
    },
    {
      "cell_type": "code",
      "execution_count": null,
      "metadata": {
        "id": "c214gsJjB4Y_"
      },
      "outputs": [],
      "source": [
        "(x_train, y_train), (x_test, y_test) = mnist.load_data()"
      ]
    },
    {
      "cell_type": "code",
      "execution_count": null,
      "metadata": {
        "id": "DCOuyYcGB4ZA",
        "outputId": "5b1a318d-946a-4095-a6fc-5e9a8a1b2a21"
      },
      "outputs": [
        {
          "name": "stdout",
          "output_type": "stream",
          "text": [
            "(60000, 28, 28)\n",
            "(60000,)\n",
            "(10000, 28, 28)\n",
            "(10000,)\n"
          ]
        }
      ],
      "source": [
        "print(x_train.shape)\n",
        "print(y_train.shape)\n",
        "print(x_test.shape)\n",
        "print(y_test.shape)"
      ]
    },
    {
      "cell_type": "code",
      "execution_count": null,
      "metadata": {
        "id": "3cH_u-5DB4ZB",
        "outputId": "24c36187-e7c3-42f7-ce26-c671a60fabd3"
      },
      "outputs": [
        {
          "data": {
            "image/png": "[encoded data removed]",
            "text/plain": [
              "<Figure size 432x288 with 1 Axes>"
            ]
          },
          "metadata": {
            "needs_background": "light"
          },
          "output_type": "display_data"
        }
      ],
      "source": [
        "plt.imshow(x_train[5080], cmap=\"gray\")\n",
        "plt.show()"
      ]
    },
    {
      "cell_type": "code",
      "execution_count": null,
      "metadata": {
        "id": "4YmiQCZnB4ZD",
        "outputId": "df22a00d-6512-4152-902a-43630eaa2630"
      },
      "outputs": [
        {
          "data": {
            "text/plain": [
              "3"
            ]
          },
          "execution_count": 6,
          "metadata": {},
          "output_type": "execute_result"
        }
      ],
      "source": [
        "y_train[50]"
      ]
    },
    {
      "cell_type": "code",
      "execution_count": null,
      "metadata": {
        "id": "0x3puKmfB4ZF",
        "outputId": "aa6c54f2-ae4a-4e9f-8dd5-3840f56ac182"
      },
      "outputs": [
        {
          "data": {
            "text/plain": [
              "array([[  0,   0,   0,   0,   0,   0,   0,   0,   0,   0,   0,   0,   0,\n",
              "          0,   0,   0,   0,   0,   0,   0,   0,   0,   0,   0,   0,   0,\n",
              "          0,   0],\n",
              "       [  0,   0,   0,   0,   0,   0,   0,   0,   0,   0,   0,   0,   0,\n",
              "          0,   0,   0,   0,   0,   0,   0,   0,   0,   0,   0,   0,   0,\n",
              "          0,   0],\n",
              "       [  0,   0,   0,   0,   0,   0,   0,   0,   0,   0,   0,   0,   0,\n",
              "          0,   0,   0,   0,   0,   0,   0,   0,   0,   0,   0,   0,   0,\n",
              "          0,   0],\n",
              "       [  0,   0,   0,   0,   0,   0,   0,   0,   0,   0,   0,   0,   0,\n",
              "          0,   0,   0,   0,   0,   0,   0,   0,   0,   0,   0,   0,   0,\n",
              "          0,   0],\n",
              "       [  0,   0,   0,   0,   0,   0,   0,   0,   0,   0,   0,   0,   0,\n",
              "          0,   0,   0,   0,   0,   0,   0,   0,   0,   0,   0,   0,   0,\n",
              "          0,   0],\n",
              "       [  0,   0,   0,   0,   0,   0,   0,   0,   0,   0,   0,   0,   3,\n",
              "         18,  18,  18, 126, 136, 175,  26, 166, 255, 247, 127,   0,   0,\n",
              "          0,   0],\n",
              "       [  0,   0,   0,   0,   0,   0,   0,   0,  30,  36,  94, 154, 170,\n",
              "        253, 253, 253, 253, 253, 225, 172, 253, 242, 195,  64,   0,   0,\n",
              "          0,   0],\n",
              "       [  0,   0,   0,   0,   0,   0,   0,  49, 238, 253, 253, 253, 253,\n",
              "        253, 253, 253, 253, 251,  93,  82,  82,  56,  39,   0,   0,   0,\n",
              "          0,   0],\n",
              "       [  0,   0,   0,   0,   0,   0,   0,  18, 219, 253, 253, 253, 253,\n",
              "        253, 198, 182, 247, 241,   0,   0,   0,   0,   0,   0,   0,   0,\n",
              "          0,   0],\n",
              "       [  0,   0,   0,   0,   0,   0,   0,   0,  80, 156, 107, 253, 253,\n",
              "        205,  11,   0,  43, 154,   0,   0,   0,   0,   0,   0,   0,   0,\n",
              "          0,   0],\n",
              "       [  0,   0,   0,   0,   0,   0,   0,   0,   0,  14,   1, 154, 253,\n",
              "         90,   0,   0,   0,   0,   0,   0,   0,   0,   0,   0,   0,   0,\n",
              "          0,   0],\n",
              "       [  0,   0,   0,   0,   0,   0,   0,   0,   0,   0,   0, 139, 253,\n",
              "        190,   2,   0,   0,   0,   0,   0,   0,   0,   0,   0,   0,   0,\n",
              "          0,   0],\n",
              "       [  0,   0,   0,   0,   0,   0,   0,   0,   0,   0,   0,  11, 190,\n",
              "        253,  70,   0,   0,   0,   0,   0,   0,   0,   0,   0,   0,   0,\n",
              "          0,   0],\n",
              "       [  0,   0,   0,   0,   0,   0,   0,   0,   0,   0,   0,   0,  35,\n",
              "        241, 225, 160, 108,   1,   0,   0,   0,   0,   0,   0,   0,   0,\n",
              "          0,   0],\n",
              "       [  0,   0,   0,   0,   0,   0,   0,   0,   0,   0,   0,   0,   0,\n",
              "         81, 240, 253, 253, 119,  25,   0,   0,   0,   0,   0,   0,   0,\n",
              "          0,   0],\n",
              "       [  0,   0,   0,   0,   0,   0,   0,   0,   0,   0,   0,   0,   0,\n",
              "          0,  45, 186, 253, 253, 150,  27,   0,   0,   0,   0,   0,   0,\n",
              "          0,   0],\n",
              "       [  0,   0,   0,   0,   0,   0,   0,   0,   0,   0,   0,   0,   0,\n",
              "          0,   0,  16,  93, 252, 253, 187,   0,   0,   0,   0,   0,   0,\n",
              "          0,   0],\n",
              "       [  0,   0,   0,   0,   0,   0,   0,   0,   0,   0,   0,   0,   0,\n",
              "          0,   0,   0,   0, 249, 253, 249,  64,   0,   0,   0,   0,   0,\n",
              "          0,   0],\n",
              "       [  0,   0,   0,   0,   0,   0,   0,   0,   0,   0,   0,   0,   0,\n",
              "          0,  46, 130, 183, 253, 253, 207,   2,   0,   0,   0,   0,   0,\n",
              "          0,   0],\n",
              "       [  0,   0,   0,   0,   0,   0,   0,   0,   0,   0,   0,   0,  39,\n",
              "        148, 229, 253, 253, 253, 250, 182,   0,   0,   0,   0,   0,   0,\n",
              "          0,   0],\n",
              "       [  0,   0,   0,   0,   0,   0,   0,   0,   0,   0,  24, 114, 221,\n",
              "        253, 253, 253, 253, 201,  78,   0,   0,   0,   0,   0,   0,   0,\n",
              "          0,   0],\n",
              "       [  0,   0,   0,   0,   0,   0,   0,   0,  23,  66, 213, 253, 253,\n",
              "        253, 253, 198,  81,   2,   0,   0,   0,   0,   0,   0,   0,   0,\n",
              "          0,   0],\n",
              "       [  0,   0,   0,   0,   0,   0,  18, 171, 219, 253, 253, 253, 253,\n",
              "        195,  80,   9,   0,   0,   0,   0,   0,   0,   0,   0,   0,   0,\n",
              "          0,   0],\n",
              "       [  0,   0,   0,   0,  55, 172, 226, 253, 253, 253, 253, 244, 133,\n",
              "         11,   0,   0,   0,   0,   0,   0,   0,   0,   0,   0,   0,   0,\n",
              "          0,   0],\n",
              "       [  0,   0,   0,   0, 136, 253, 253, 253, 212, 135, 132,  16,   0,\n",
              "          0,   0,   0,   0,   0,   0,   0,   0,   0,   0,   0,   0,   0,\n",
              "          0,   0],\n",
              "       [  0,   0,   0,   0,   0,   0,   0,   0,   0,   0,   0,   0,   0,\n",
              "          0,   0,   0,   0,   0,   0,   0,   0,   0,   0,   0,   0,   0,\n",
              "          0,   0],\n",
              "       [  0,   0,   0,   0,   0,   0,   0,   0,   0,   0,   0,   0,   0,\n",
              "          0,   0,   0,   0,   0,   0,   0,   0,   0,   0,   0,   0,   0,\n",
              "          0,   0],\n",
              "       [  0,   0,   0,   0,   0,   0,   0,   0,   0,   0,   0,   0,   0,\n",
              "          0,   0,   0,   0,   0,   0,   0,   0,   0,   0,   0,   0,   0,\n",
              "          0,   0]], dtype=uint8)"
            ]
          },
          "execution_count": 7,
          "metadata": {},
          "output_type": "execute_result"
        }
      ],
      "source": [
        "x_train[0]"
      ]
    },
    {
      "cell_type": "markdown",
      "metadata": {
        "id": "ZxWOW-8EB4ZH"
      },
      "source": [
        "### Preprocessing the data"
      ]
    },
    {
      "cell_type": "code",
      "execution_count": null,
      "metadata": {
        "id": "oFCz955tB4ZL"
      },
      "outputs": [],
      "source": [
        "x_train = x_train.reshape(60000,784)/255\n",
        "x_test = x_test.reshape(10000,784)/255"
      ]
    },
    {
      "cell_type": "code",
      "execution_count": null,
      "metadata": {
        "id": "88y4jDEnB4ZN"
      },
      "outputs": [],
      "source": [
        "y_train_ohe = to_categorical(y_train)\n",
        "y_test_ohe = to_categorical(y_test)"
      ]
    },
    {
      "cell_type": "code",
      "execution_count": null,
      "metadata": {
        "id": "fUYnSF3xB4ZR",
        "outputId": "ba08d959-19b1-45fb-86a6-137a09f87581"
      },
      "outputs": [
        {
          "name": "stdout",
          "output_type": "stream",
          "text": [
            "(60000, 784)\n",
            "(60000, 10)\n",
            "(10000, 784)\n",
            "(10000, 10)\n"
          ]
        }
      ],
      "source": [
        "print(x_train.shape)\n",
        "print(y_train_ohe.shape)\n",
        "print(x_test.shape)\n",
        "print(y_test_ohe.shape)"
      ]
    },
    {
      "cell_type": "code",
      "execution_count": null,
      "metadata": {
        "id": "5tDQgkgNB4ZT",
        "outputId": "67be7842-5431-4acc-d783-d6cc17538bae"
      },
      "outputs": [
        {
          "name": "stdout",
          "output_type": "stream",
          "text": [
            "5\n",
            "[0. 0. 0. 0. 0. 1. 0. 0. 0. 0.]\n"
          ]
        }
      ],
      "source": [
        "print(y_train[0])\n",
        "print(y_train_ohe[0])"
      ]
    },
    {
      "cell_type": "markdown",
      "metadata": {
        "id": "JoqoX1FIB4ZU"
      },
      "source": [
        "### Model Building"
      ]
    },
    {
      "cell_type": "code",
      "execution_count": null,
      "metadata": {
        "id": "FBm8_l2dB4ZV"
      },
      "outputs": [],
      "source": [
        "from tensorflow.keras.models import Sequential\n",
        "from tensorflow.keras.layers import Input, Dense, Dropout\n",
        "from tensorflow.keras.optimizers import SGD\n",
        "from tensorflow.keras.regularizers import L1L2"
      ]
    },
    {
      "cell_type": "code",
      "execution_count": null,
      "metadata": {
        "id": "1ppY3VoIB4ZW"
      },
      "outputs": [],
      "source": [
        "model = Sequential() # Empty Model without any layers\n",
        "model.add(Input(784,))\n",
        "model.add(Dense(units=50, activation=\"relu\"))\n",
        "# model.add(Dense(units=50, activation=\"relu\", kernel_regularizer = L1L2(l1=0, l2=0.01)))\n",
        "model.add(Dropout(0.2))\n",
        "model.add(Dense(10, activation = \"softmax\"))"
      ]
    },
    {
      "cell_type": "code",
      "execution_count": null,
      "metadata": {
        "id": "K8XUiS43B4ZW"
      },
      "outputs": [],
      "source": [
        "model.compile(optimizer=\"adam\", loss=\"categorical_crossentropy\", metrics=[\"accuracy\"])"
      ]
    },
    {
      "cell_type": "code",
      "execution_count": null,
      "metadata": {
        "id": "nYM38f5HB4ZX",
        "outputId": "a4606c5a-b882-4c1d-df20-069aca74977f"
      },
      "outputs": [
        {
          "name": "stdout",
          "output_type": "stream",
          "text": [
            "Epoch 1/100\n",
            "60/60 [==============================] - 2s 12ms/step - loss: 1.1226 - accuracy: 0.6780 - val_loss: 0.4863 - val_accuracy: 0.8826\n",
            "Epoch 2/100\n",
            "60/60 [==============================] - 1s 9ms/step - loss: 0.4930 - accuracy: 0.8620 - val_loss: 0.3363 - val_accuracy: 0.9119\n",
            "Epoch 3/100\n",
            "60/60 [==============================] - 0s 8ms/step - loss: 0.3872 - accuracy: 0.8897 - val_loss: 0.2818 - val_accuracy: 0.9224\n",
            "Epoch 4/100\n",
            "60/60 [==============================] - 0s 8ms/step - loss: 0.3348 - accuracy: 0.9047 - val_loss: 0.2491 - val_accuracy: 0.9299\n",
            "Epoch 5/100\n",
            "60/60 [==============================] - 0s 8ms/step - loss: 0.3024 - accuracy: 0.9132 - val_loss: 0.2289 - val_accuracy: 0.9362\n",
            "Epoch 6/100\n",
            "60/60 [==============================] - 1s 9ms/step - loss: 0.2780 - accuracy: 0.9199 - val_loss: 0.2102 - val_accuracy: 0.9383\n",
            "Epoch 7/100\n",
            "60/60 [==============================] - 1s 10ms/step - loss: 0.2580 - accuracy: 0.9268 - val_loss: 0.1947 - val_accuracy: 0.9447\n",
            "Epoch 8/100\n",
            "60/60 [==============================] - 1s 10ms/step - loss: 0.2430 - accuracy: 0.9304 - val_loss: 0.1824 - val_accuracy: 0.9483\n",
            "Epoch 9/100\n",
            "60/60 [==============================] - 1s 10ms/step - loss: 0.2288 - accuracy: 0.9342 - val_loss: 0.1721 - val_accuracy: 0.9496\n",
            "Epoch 10/100\n",
            "60/60 [==============================] - 1s 10ms/step - loss: 0.2162 - accuracy: 0.9366 - val_loss: 0.1639 - val_accuracy: 0.9505\n",
            "Epoch 11/100\n",
            "60/60 [==============================] - 1s 9ms/step - loss: 0.2100 - accuracy: 0.9390 - val_loss: 0.1559 - val_accuracy: 0.9534\n",
            "Epoch 12/100\n",
            "60/60 [==============================] - 1s 9ms/step - loss: 0.1983 - accuracy: 0.9418 - val_loss: 0.1504 - val_accuracy: 0.9548\n",
            "Epoch 13/100\n",
            "60/60 [==============================] - 1s 9ms/step - loss: 0.1912 - accuracy: 0.9449 - val_loss: 0.1437 - val_accuracy: 0.9582\n",
            "Epoch 14/100\n",
            "60/60 [==============================] - 1s 9ms/step - loss: 0.1825 - accuracy: 0.9459 - val_loss: 0.1382 - val_accuracy: 0.9587\n",
            "Epoch 15/100\n",
            "60/60 [==============================] - 1s 10ms/step - loss: 0.1783 - accuracy: 0.9477 - val_loss: 0.1336 - val_accuracy: 0.9606\n",
            "Epoch 16/100\n",
            "60/60 [==============================] - 1s 10ms/step - loss: 0.1718 - accuracy: 0.9499 - val_loss: 0.1291 - val_accuracy: 0.9617\n",
            "Epoch 17/100\n",
            "60/60 [==============================] - 1s 10ms/step - loss: 0.1644 - accuracy: 0.9521 - val_loss: 0.1246 - val_accuracy: 0.9632\n",
            "Epoch 18/100\n",
            "60/60 [==============================] - 1s 10ms/step - loss: 0.1608 - accuracy: 0.9530 - val_loss: 0.1228 - val_accuracy: 0.9638\n",
            "Epoch 19/100\n",
            "60/60 [==============================] - 1s 11ms/step - loss: 0.1582 - accuracy: 0.9530 - val_loss: 0.1195 - val_accuracy: 0.9650\n",
            "Epoch 20/100\n",
            "60/60 [==============================] - 1s 9ms/step - loss: 0.1525 - accuracy: 0.9544 - val_loss: 0.1174 - val_accuracy: 0.9649\n",
            "Epoch 21/100\n",
            "60/60 [==============================] - 1s 11ms/step - loss: 0.1490 - accuracy: 0.9556 - val_loss: 0.1144 - val_accuracy: 0.9663\n",
            "Epoch 22/100\n",
            "60/60 [==============================] - 1s 9ms/step - loss: 0.1440 - accuracy: 0.9577 - val_loss: 0.1115 - val_accuracy: 0.9674\n",
            "Epoch 23/100\n",
            "60/60 [==============================] - 1s 9ms/step - loss: 0.1407 - accuracy: 0.9585 - val_loss: 0.1095 - val_accuracy: 0.9677\n",
            "Epoch 24/100\n",
            "60/60 [==============================] - 1s 9ms/step - loss: 0.1377 - accuracy: 0.9589 - val_loss: 0.1073 - val_accuracy: 0.9693\n",
            "Epoch 25/100\n",
            "60/60 [==============================] - 1s 9ms/step - loss: 0.1359 - accuracy: 0.9600 - val_loss: 0.1069 - val_accuracy: 0.9687\n",
            "Epoch 26/100\n",
            "60/60 [==============================] - 1s 9ms/step - loss: 0.1328 - accuracy: 0.9607 - val_loss: 0.1048 - val_accuracy: 0.9701\n",
            "Epoch 27/100\n",
            "60/60 [==============================] - 1s 9ms/step - loss: 0.1282 - accuracy: 0.9615 - val_loss: 0.1049 - val_accuracy: 0.9691\n",
            "Epoch 28/100\n",
            "60/60 [==============================] - 1s 9ms/step - loss: 0.1275 - accuracy: 0.9622 - val_loss: 0.1015 - val_accuracy: 0.9699\n",
            "Epoch 29/100\n",
            "60/60 [==============================] - 1s 8ms/step - loss: 0.1245 - accuracy: 0.9627 - val_loss: 0.1015 - val_accuracy: 0.9711\n",
            "Epoch 30/100\n",
            "60/60 [==============================] - 0s 8ms/step - loss: 0.1231 - accuracy: 0.9627 - val_loss: 0.1000 - val_accuracy: 0.9718\n",
            "Epoch 31/100\n",
            "60/60 [==============================] - 1s 9ms/step - loss: 0.1220 - accuracy: 0.9628 - val_loss: 0.0997 - val_accuracy: 0.9706\n",
            "Epoch 32/100\n",
            "60/60 [==============================] - 1s 9ms/step - loss: 0.1196 - accuracy: 0.9630 - val_loss: 0.0981 - val_accuracy: 0.9709\n",
            "Epoch 33/100\n",
            "60/60 [==============================] - 1s 9ms/step - loss: 0.1171 - accuracy: 0.9638 - val_loss: 0.0979 - val_accuracy: 0.9714\n",
            "Epoch 34/100\n",
            "60/60 [==============================] - 1s 9ms/step - loss: 0.1151 - accuracy: 0.9643 - val_loss: 0.0964 - val_accuracy: 0.9719\n",
            "Epoch 35/100\n",
            "60/60 [==============================] - 1s 11ms/step - loss: 0.1120 - accuracy: 0.9661 - val_loss: 0.0966 - val_accuracy: 0.9708\n",
            "Epoch 36/100\n",
            "60/60 [==============================] - 1s 10ms/step - loss: 0.1094 - accuracy: 0.9661 - val_loss: 0.0963 - val_accuracy: 0.9724\n",
            "Epoch 37/100\n",
            "60/60 [==============================] - 1s 9ms/step - loss: 0.1079 - accuracy: 0.9668 - val_loss: 0.0933 - val_accuracy: 0.9731\n",
            "Epoch 38/100\n",
            "60/60 [==============================] - 1s 9ms/step - loss: 0.1088 - accuracy: 0.9668 - val_loss: 0.0942 - val_accuracy: 0.9718\n",
            "Epoch 39/100\n",
            "60/60 [==============================] - 1s 9ms/step - loss: 0.1058 - accuracy: 0.9673 - val_loss: 0.0936 - val_accuracy: 0.9720\n",
            "Epoch 40/100\n",
            "60/60 [==============================] - 1s 9ms/step - loss: 0.1044 - accuracy: 0.9684 - val_loss: 0.0925 - val_accuracy: 0.9720\n",
            "Epoch 41/100\n",
            "60/60 [==============================] - 1s 9ms/step - loss: 0.1033 - accuracy: 0.9677 - val_loss: 0.0937 - val_accuracy: 0.9720\n",
            "Epoch 42/100\n",
            "60/60 [==============================] - 1s 9ms/step - loss: 0.1003 - accuracy: 0.9684 - val_loss: 0.0929 - val_accuracy: 0.9726\n",
            "Epoch 43/100\n",
            "60/60 [==============================] - 1s 9ms/step - loss: 0.1021 - accuracy: 0.9680 - val_loss: 0.0925 - val_accuracy: 0.9735\n",
            "Epoch 44/100\n",
            "60/60 [==============================] - 1s 9ms/step - loss: 0.0988 - accuracy: 0.9689 - val_loss: 0.0907 - val_accuracy: 0.9741\n",
            "Epoch 45/100\n",
            "60/60 [==============================] - 1s 9ms/step - loss: 0.0985 - accuracy: 0.9696 - val_loss: 0.0911 - val_accuracy: 0.9729\n",
            "Epoch 46/100\n",
            "60/60 [==============================] - 1s 11ms/step - loss: 0.0968 - accuracy: 0.9700 - val_loss: 0.0896 - val_accuracy: 0.9736\n",
            "Epoch 47/100\n",
            "60/60 [==============================] - 1s 9ms/step - loss: 0.0940 - accuracy: 0.9712 - val_loss: 0.0909 - val_accuracy: 0.9722\n",
            "Epoch 48/100\n",
            "60/60 [==============================] - 1s 9ms/step - loss: 0.0939 - accuracy: 0.9710 - val_loss: 0.0896 - val_accuracy: 0.9734\n",
            "Epoch 49/100\n",
            "60/60 [==============================] - 1s 9ms/step - loss: 0.0933 - accuracy: 0.9717 - val_loss: 0.0906 - val_accuracy: 0.9723\n",
            "Epoch 50/100\n",
            "60/60 [==============================] - 1s 10ms/step - loss: 0.0928 - accuracy: 0.9716 - val_loss: 0.0900 - val_accuracy: 0.9737\n",
            "Epoch 51/100\n",
            "60/60 [==============================] - 1s 10ms/step - loss: 0.0926 - accuracy: 0.9711 - val_loss: 0.0891 - val_accuracy: 0.9731\n",
            "Epoch 52/100\n",
            "60/60 [==============================] - 0s 8ms/step - loss: 0.0912 - accuracy: 0.9720 - val_loss: 0.0885 - val_accuracy: 0.9737\n",
            "Epoch 53/100\n",
            "60/60 [==============================] - 0s 8ms/step - loss: 0.0887 - accuracy: 0.9728 - val_loss: 0.0889 - val_accuracy: 0.9736\n",
            "Epoch 54/100\n",
            "60/60 [==============================] - 1s 9ms/step - loss: 0.0883 - accuracy: 0.9719 - val_loss: 0.0901 - val_accuracy: 0.9732\n",
            "Epoch 55/100\n",
            "60/60 [==============================] - 1s 9ms/step - loss: 0.0856 - accuracy: 0.9725 - val_loss: 0.0895 - val_accuracy: 0.9736\n",
            "Epoch 56/100\n",
            "60/60 [==============================] - 0s 8ms/step - loss: 0.0859 - accuracy: 0.9727 - val_loss: 0.0899 - val_accuracy: 0.9731\n",
            "Epoch 57/100\n",
            "60/60 [==============================] - 1s 9ms/step - loss: 0.0859 - accuracy: 0.9729 - val_loss: 0.0909 - val_accuracy: 0.9738\n",
            "Epoch 58/100\n",
            "60/60 [==============================] - 1s 9ms/step - loss: 0.0854 - accuracy: 0.9738 - val_loss: 0.0888 - val_accuracy: 0.9734\n",
            "Epoch 59/100\n",
            "60/60 [==============================] - 1s 9ms/step - loss: 0.0843 - accuracy: 0.9735 - val_loss: 0.0896 - val_accuracy: 0.9730\n",
            "Epoch 60/100\n",
            "60/60 [==============================] - 1s 10ms/step - loss: 0.0845 - accuracy: 0.9735 - val_loss: 0.0891 - val_accuracy: 0.9734\n",
            "Epoch 61/100\n",
            "60/60 [==============================] - 1s 12ms/step - loss: 0.0834 - accuracy: 0.9746 - val_loss: 0.0896 - val_accuracy: 0.9735\n",
            "Epoch 62/100\n",
            "60/60 [==============================] - 1s 11ms/step - loss: 0.0810 - accuracy: 0.9751 - val_loss: 0.0897 - val_accuracy: 0.9740\n",
            "Epoch 63/100\n",
            "60/60 [==============================] - 1s 10ms/step - loss: 0.0793 - accuracy: 0.9753 - val_loss: 0.0895 - val_accuracy: 0.9737\n",
            "Epoch 64/100\n",
            "60/60 [==============================] - 1s 10ms/step - loss: 0.0809 - accuracy: 0.9745 - val_loss: 0.0878 - val_accuracy: 0.9742\n",
            "Epoch 65/100\n",
            "60/60 [==============================] - 1s 9ms/step - loss: 0.0764 - accuracy: 0.9756 - val_loss: 0.0885 - val_accuracy: 0.9737\n",
            "Epoch 66/100\n",
            "60/60 [==============================] - 1s 9ms/step - loss: 0.0783 - accuracy: 0.9748 - val_loss: 0.0893 - val_accuracy: 0.9740\n",
            "Epoch 67/100\n",
            "60/60 [==============================] - 1s 9ms/step - loss: 0.0783 - accuracy: 0.9753 - val_loss: 0.0891 - val_accuracy: 0.9744\n",
            "Epoch 68/100\n",
            "60/60 [==============================] - 1s 9ms/step - loss: 0.0776 - accuracy: 0.9756 - val_loss: 0.0912 - val_accuracy: 0.9735\n",
            "Epoch 69/100\n",
            "60/60 [==============================] - 0s 8ms/step - loss: 0.0775 - accuracy: 0.9754 - val_loss: 0.0918 - val_accuracy: 0.9731\n",
            "Epoch 70/100\n",
            "60/60 [==============================] - 1s 9ms/step - loss: 0.0754 - accuracy: 0.9768 - val_loss: 0.0891 - val_accuracy: 0.9741\n",
            "Epoch 71/100\n",
            "60/60 [==============================] - 1s 10ms/step - loss: 0.0762 - accuracy: 0.9757 - val_loss: 0.0896 - val_accuracy: 0.9724\n",
            "Epoch 72/100\n",
            "60/60 [==============================] - 1s 9ms/step - loss: 0.0761 - accuracy: 0.9754 - val_loss: 0.0902 - val_accuracy: 0.9741\n",
            "Epoch 73/100\n",
            "60/60 [==============================] - 1s 8ms/step - loss: 0.0727 - accuracy: 0.9765 - val_loss: 0.0894 - val_accuracy: 0.9738\n",
            "Epoch 74/100\n",
            "60/60 [==============================] - 1s 10ms/step - loss: 0.0730 - accuracy: 0.9769 - val_loss: 0.0908 - val_accuracy: 0.9745\n",
            "Epoch 75/100\n",
            "60/60 [==============================] - 1s 9ms/step - loss: 0.0723 - accuracy: 0.9771 - val_loss: 0.0894 - val_accuracy: 0.9747\n",
            "Epoch 76/100\n",
            "60/60 [==============================] - 1s 9ms/step - loss: 0.0732 - accuracy: 0.9758 - val_loss: 0.0907 - val_accuracy: 0.9733\n",
            "Epoch 77/100\n",
            "60/60 [==============================] - 1s 10ms/step - loss: 0.0714 - accuracy: 0.9776 - val_loss: 0.0885 - val_accuracy: 0.9743\n",
            "Epoch 78/100\n",
            "60/60 [==============================] - 1s 10ms/step - loss: 0.0719 - accuracy: 0.9766 - val_loss: 0.0897 - val_accuracy: 0.9742\n",
            "Epoch 79/100\n",
            "60/60 [==============================] - 1s 9ms/step - loss: 0.0716 - accuracy: 0.9772 - val_loss: 0.0899 - val_accuracy: 0.9741\n",
            "Epoch 80/100\n",
            "60/60 [==============================] - 1s 9ms/step - loss: 0.0685 - accuracy: 0.9781 - val_loss: 0.0895 - val_accuracy: 0.9735\n",
            "Epoch 81/100\n",
            "60/60 [==============================] - 0s 8ms/step - loss: 0.0686 - accuracy: 0.9780 - val_loss: 0.0906 - val_accuracy: 0.9744\n",
            "Epoch 82/100\n",
            "60/60 [==============================] - 1s 9ms/step - loss: 0.0707 - accuracy: 0.9774 - val_loss: 0.0923 - val_accuracy: 0.9731\n",
            "Epoch 83/100\n",
            "60/60 [==============================] - 1s 9ms/step - loss: 0.0681 - accuracy: 0.9785 - val_loss: 0.0914 - val_accuracy: 0.9737\n",
            "Epoch 84/100\n",
            "60/60 [==============================] - 1s 9ms/step - loss: 0.0678 - accuracy: 0.9779 - val_loss: 0.0905 - val_accuracy: 0.9750\n",
            "Epoch 85/100\n",
            "60/60 [==============================] - 1s 9ms/step - loss: 0.0664 - accuracy: 0.9787 - val_loss: 0.0932 - val_accuracy: 0.9731\n",
            "Epoch 86/100\n",
            "60/60 [==============================] - 1s 10ms/step - loss: 0.0681 - accuracy: 0.9781 - val_loss: 0.0920 - val_accuracy: 0.9740\n",
            "Epoch 87/100\n",
            "60/60 [==============================] - 1s 9ms/step - loss: 0.0662 - accuracy: 0.9783 - val_loss: 0.0921 - val_accuracy: 0.9736\n",
            "Epoch 88/100\n",
            "60/60 [==============================] - 1s 9ms/step - loss: 0.0661 - accuracy: 0.9784 - val_loss: 0.0914 - val_accuracy: 0.9735\n",
            "Epoch 89/100\n",
            "60/60 [==============================] - 1s 10ms/step - loss: 0.0663 - accuracy: 0.9784 - val_loss: 0.0918 - val_accuracy: 0.9734\n",
            "Epoch 90/100\n",
            "60/60 [==============================] - 1s 9ms/step - loss: 0.0653 - accuracy: 0.9787 - val_loss: 0.0926 - val_accuracy: 0.9733\n",
            "Epoch 91/100\n",
            "60/60 [==============================] - 1s 11ms/step - loss: 0.0642 - accuracy: 0.9789 - val_loss: 0.0929 - val_accuracy: 0.9741\n",
            "Epoch 92/100\n",
            "60/60 [==============================] - 1s 9ms/step - loss: 0.0653 - accuracy: 0.9787 - val_loss: 0.0932 - val_accuracy: 0.9738\n",
            "Epoch 93/100\n",
            "60/60 [==============================] - 1s 9ms/step - loss: 0.0640 - accuracy: 0.9790 - val_loss: 0.0929 - val_accuracy: 0.9748\n",
            "Epoch 94/100\n",
            "60/60 [==============================] - 1s 9ms/step - loss: 0.0630 - accuracy: 0.9787 - val_loss: 0.0935 - val_accuracy: 0.9741\n",
            "Epoch 95/100\n",
            "60/60 [==============================] - 1s 9ms/step - loss: 0.0642 - accuracy: 0.9790 - val_loss: 0.0935 - val_accuracy: 0.9742\n",
            "Epoch 96/100\n",
            "60/60 [==============================] - 1s 9ms/step - loss: 0.0630 - accuracy: 0.9800 - val_loss: 0.0945 - val_accuracy: 0.9734\n",
            "Epoch 97/100\n",
            "60/60 [==============================] - 1s 11ms/step - loss: 0.0631 - accuracy: 0.9796 - val_loss: 0.0942 - val_accuracy: 0.9729\n",
            "Epoch 98/100\n",
            "60/60 [==============================] - 1s 9ms/step - loss: 0.0606 - accuracy: 0.9802 - val_loss: 0.0929 - val_accuracy: 0.9746\n",
            "Epoch 99/100\n",
            "60/60 [==============================] - 1s 9ms/step - loss: 0.0617 - accuracy: 0.9795 - val_loss: 0.0949 - val_accuracy: 0.9745\n",
            "Epoch 100/100\n",
            "60/60 [==============================] - 1s 9ms/step - loss: 0.0606 - accuracy: 0.9800 - val_loss: 0.0940 - val_accuracy: 0.9738\n"
          ]
        },
        {
          "data": {
            "text/plain": [
              "<keras.src.callbacks.History at 0x1fcf002aca0>"
            ]
          },
          "execution_count": 89,
          "metadata": {},
          "output_type": "execute_result"
        }
      ],
      "source": [
        "model.fit(x=x_train, y=y_train_ohe, validation_data=(x_test, y_test_ohe), epochs=100, batch_size=1000)"
      ]
    },
    {
      "cell_type": "code",
      "execution_count": null,
      "metadata": {
        "id": "4mO9MJZkB4ZY"
      },
      "outputs": [],
      "source": [
        "import matplotlib.pyplot as plt\n",
        "train_loss = model.history.history[\"loss\"]\n",
        "val_loss = model.history.history[\"val_loss\"]\n",
        "\n",
        "train_acc = model.history.history[\"accuracy\"]\n",
        "val_acc = model.history.history[\"val_accuracy\"]"
      ]
    },
    {
      "cell_type": "code",
      "execution_count": null,
      "metadata": {
        "id": "6LIJVmtAB4ZY",
        "outputId": "8512b020-46d9-47c8-ca5a-02064227470d"
      },
      "outputs": [
        {
          "data": {
            "image/png": "[encoded data removed]",
            "text/plain": [
              "<Figure size 432x288 with 1 Axes>"
            ]
          },
          "metadata": {
            "needs_background": "light"
          },
          "output_type": "display_data"
        }
      ],
      "source": [
        "plt.plot(train_loss)\n",
        "plt.plot(val_loss)\n",
        "plt.xlabel(\"Epoch\")\n",
        "plt.ylabel(\"Loss\")\n",
        "plt.title(\"Loss Curves\")\n",
        "plt.legend([\"Train\", \"Val\"])\n",
        "plt.grid()\n",
        "plt.show()"
      ]
    },
    {
      "cell_type": "code",
      "execution_count": null,
      "metadata": {
        "id": "1AFFBXvRB4ZZ",
        "outputId": "9e6175fc-17c6-46d0-9cfe-9300b08bed0e"
      },
      "outputs": [
        {
          "data": {
            "image/png": "[encoded data removed]",
            "text/plain": [
              "<Figure size 432x288 with 1 Axes>"
            ]
          },
          "metadata": {
            "needs_background": "light"
          },
          "output_type": "display_data"
        }
      ],
      "source": [
        "plt.plot(train_acc)\n",
        "plt.plot(val_acc)\n",
        "plt.xlabel(\"Epoch\")\n",
        "plt.ylabel(\"Accuracy\")\n",
        "plt.ylim(0,1.1)\n",
        "plt.title(\"Accuracy Curves\")\n",
        "plt.legend([\"Train\", \"Val\"])\n",
        "plt.grid()\n",
        "plt.show()"
      ]
    },
    {
      "cell_type": "code",
      "execution_count": null,
      "metadata": {
        "id": "m-t2QS7mB4Za"
      },
      "outputs": [],
      "source": [
        "from sklearn.metrics import confusion_matrix, classification_report"
      ]
    },
    {
      "cell_type": "code",
      "execution_count": null,
      "metadata": {
        "id": "on0WGacDB4Za",
        "outputId": "0863b8f7-80f2-4d57-a84b-7d7f2cf9b950"
      },
      "outputs": [
        {
          "name": "stdout",
          "output_type": "stream",
          "text": [
            "313/313 [==============================] - 1s 2ms/step\n"
          ]
        }
      ],
      "source": [
        "preds = model.predict(x_test)"
      ]
    },
    {
      "cell_type": "code",
      "execution_count": null,
      "metadata": {
        "id": "tjNiLau6B4Zb",
        "outputId": "b3311a32-a5e9-4753-c840-ed964eaa1acb"
      },
      "outputs": [
        {
          "data": {
            "text/plain": [
              "(10000, 10)"
            ]
          },
          "execution_count": 35,
          "metadata": {},
          "output_type": "execute_result"
        }
      ],
      "source": [
        "preds.shape"
      ]
    },
    {
      "cell_type": "code",
      "execution_count": null,
      "metadata": {
        "id": "JPyrRQ9cB4Zc",
        "outputId": "4bba355f-0e2b-44ab-a5ad-306724dc6d21"
      },
      "outputs": [
        {
          "data": {
            "text/plain": [
              "3"
            ]
          },
          "execution_count": 49,
          "metadata": {},
          "output_type": "execute_result"
        }
      ],
      "source": [
        "np.argmax(preds[90])\n",
        "preds_class = np.argmax(preds, axis=1)"
      ]
    },
    {
      "cell_type": "code",
      "execution_count": null,
      "metadata": {
        "id": "r-KDAL0BB4Zc",
        "outputId": "6ea307f3-7ab1-45c3-a0bc-405073e6ca16"
      },
      "outputs": [
        {
          "data": {
            "image/png": "[encoded data removed]",
            "text/plain": [
              "<Figure size 432x288 with 1 Axes>"
            ]
          },
          "metadata": {
            "needs_background": "light"
          },
          "output_type": "display_data"
        }
      ],
      "source": [
        "plt.imshow(x_test[90].reshape(28,28), cmap=\"gray\")\n",
        "plt.show()"
      ]
    },
    {
      "cell_type": "code",
      "execution_count": null,
      "metadata": {
        "id": "EwOyB2KUB4Ze",
        "outputId": "3e08eddd-3c34-4aea-8bfc-f0b5726aed1e"
      },
      "outputs": [
        {
          "data": {
            "text/plain": [
              "array([[ 968,    0,    0,    2,    1,    2,    3,    1,    2,    1],\n",
              "       [   0, 1123,    4,    0,    0,    1,    3,    2,    2,    0],\n",
              "       [   7,    3,  997,   10,    2,    0,    2,    4,    7,    0],\n",
              "       [   0,    0,    8,  986,    2,    2,    1,    4,    0,    7],\n",
              "       [   2,    0,    2,    0,  959,    0,    5,    3,    2,    9],\n",
              "       [   2,    1,    1,   15,    1,  857,    8,    0,    4,    3],\n",
              "       [   5,    1,    3,    0,    4,    3,  941,    1,    0,    0],\n",
              "       [   2,    4,    9,    4,    2,    0,    0,  995,    3,    9],\n",
              "       [   6,    1,    4,   12,    4,    2,    3,    5,  934,    3],\n",
              "       [   2,    3,    0,   10,   10,    4,    1,    7,    4,  968]],\n",
              "      dtype=int64)"
            ]
          },
          "execution_count": 56,
          "metadata": {},
          "output_type": "execute_result"
        }
      ],
      "source": [
        "confusion_matrix(y_test, preds_class)"
      ]
    },
    {
      "cell_type": "code",
      "execution_count": null,
      "metadata": {
        "id": "3MiozZHvB4Ze",
        "outputId": "7537d447-7167-40be-8aa1-9a031674a74a"
      },
      "outputs": [
        {
          "name": "stdout",
          "output_type": "stream",
          "text": [
            "              precision    recall  f1-score   support\n",
            "\n",
            "           0       0.97      0.99      0.98       980\n",
            "           1       0.99      0.99      0.99      1135\n",
            "           2       0.97      0.97      0.97      1032\n",
            "           3       0.95      0.98      0.96      1010\n",
            "           4       0.97      0.98      0.98       982\n",
            "           5       0.98      0.96      0.97       892\n",
            "           6       0.97      0.98      0.98       958\n",
            "           7       0.97      0.97      0.97      1028\n",
            "           8       0.97      0.96      0.97       974\n",
            "           9       0.97      0.96      0.96      1009\n",
            "\n",
            "    accuracy                           0.97     10000\n",
            "   macro avg       0.97      0.97      0.97     10000\n",
            "weighted avg       0.97      0.97      0.97     10000\n",
            "\n"
          ]
        }
      ],
      "source": [
        "print(classification_report(y_test, preds_class))"
      ]
    }
  ],
  "metadata": {
    "kernelspec": {
      "display_name": "pytorch",
      "language": "python",
      "name": "python3"
    },
    "language_info": {
      "codemirror_mode": {
        "name": "ipython",
        "version": 3
      },
      "file_extension": ".py",
      "mimetype": "text/x-python",
      "name": "python",
      "nbconvert_exporter": "python",
      "pygments_lexer": "ipython3",
      "version": "3.8.10"
    },
    "colab": {
      "provenance": []
    }
  },
  "nbformat": 4,
  "nbformat_minor": 0
}